{
 "cells": [
  {
   "cell_type": "code",
   "execution_count": 1,
   "id": "2575ad63",
   "metadata": {},
   "outputs": [
    {
     "name": "stdout",
     "output_type": "stream",
     "text": [
      "Requirement already satisfied: pandas in c:\\users\\julia\\anaconda3\\lib\\site-packages (2.0.3)\n",
      "Requirement already satisfied: azure-storage-blob in c:\\users\\julia\\anaconda3\\lib\\site-packages (12.20.0)\n",
      "Requirement already satisfied: pyodbc in c:\\users\\julia\\anaconda3\\lib\\site-packages (4.0.34)\n",
      "Requirement already satisfied: python-dateutil>=2.8.2 in c:\\users\\julia\\anaconda3\\lib\\site-packages (from pandas) (2.8.2)\n",
      "Requirement already satisfied: pytz>=2020.1 in c:\\users\\julia\\anaconda3\\lib\\site-packages (from pandas) (2023.3.post1)\n",
      "Requirement already satisfied: tzdata>=2022.1 in c:\\users\\julia\\anaconda3\\lib\\site-packages (from pandas) (2023.3)\n",
      "Requirement already satisfied: numpy>=1.21.0 in c:\\users\\julia\\anaconda3\\lib\\site-packages (from pandas) (1.24.3)\n",
      "Requirement already satisfied: azure-core>=1.28.0 in c:\\users\\julia\\anaconda3\\lib\\site-packages (from azure-storage-blob) (1.30.1)\n",
      "Requirement already satisfied: cryptography>=2.1.4 in c:\\users\\julia\\anaconda3\\lib\\site-packages (from azure-storage-blob) (41.0.3)\n",
      "Requirement already satisfied: typing-extensions>=4.6.0 in c:\\users\\julia\\anaconda3\\lib\\site-packages (from azure-storage-blob) (4.10.0)\n",
      "Requirement already satisfied: isodate>=0.6.1 in c:\\users\\julia\\anaconda3\\lib\\site-packages (from azure-storage-blob) (0.6.1)\n",
      "Requirement already satisfied: requests>=2.21.0 in c:\\users\\julia\\anaconda3\\lib\\site-packages (from azure-core>=1.28.0->azure-storage-blob) (2.31.0)\n",
      "Requirement already satisfied: six>=1.11.0 in c:\\users\\julia\\anaconda3\\lib\\site-packages (from azure-core>=1.28.0->azure-storage-blob) (1.16.0)\n",
      "Requirement already satisfied: cffi>=1.12 in c:\\users\\julia\\anaconda3\\lib\\site-packages (from cryptography>=2.1.4->azure-storage-blob) (1.15.1)\n",
      "Requirement already satisfied: pycparser in c:\\users\\julia\\anaconda3\\lib\\site-packages (from cffi>=1.12->cryptography>=2.1.4->azure-storage-blob) (2.21)\n",
      "Requirement already satisfied: charset-normalizer<4,>=2 in c:\\users\\julia\\anaconda3\\lib\\site-packages (from requests>=2.21.0->azure-core>=1.28.0->azure-storage-blob) (2.0.4)\n",
      "Requirement already satisfied: idna<4,>=2.5 in c:\\users\\julia\\anaconda3\\lib\\site-packages (from requests>=2.21.0->azure-core>=1.28.0->azure-storage-blob) (3.4)\n",
      "Requirement already satisfied: urllib3<3,>=1.21.1 in c:\\users\\julia\\anaconda3\\lib\\site-packages (from requests>=2.21.0->azure-core>=1.28.0->azure-storage-blob) (2.2.1)\n",
      "Requirement already satisfied: certifi>=2017.4.17 in c:\\users\\julia\\anaconda3\\lib\\site-packages (from requests>=2.21.0->azure-core>=1.28.0->azure-storage-blob) (2023.7.22)\n"
     ]
    }
   ],
   "source": [
    "!pip install pandas azure-storage-blob pyodbc\n"
   ]
  },
  {
   "cell_type": "code",
   "execution_count": 16,
   "id": "f938b078",
   "metadata": {},
   "outputs": [],
   "source": [
    "import pandas as pd\n",
    "from azure.storage.blob import BlobServiceClient\n",
    "import io\n",
    "from datetime import datetime \n",
    "import pyodbc\n",
    "import os\n",
    "from dotenv import load_dotenv\n",
    "from azure.storage.blob import BlobServiceClient, BlobClient, ContainerClient\n",
    "\n",
    "load_dotenv()\n",
    "\n",
    "\n",
    "# Configura tu conexión al Blob Storage de Azure\n",
    "AZURE_API_KEY = os.getenv(\"AZURE_STORAGE_CONNECTION_STRING\")\n",
    "PINECONE_API_KEY = os.getenv(\"PINECONE_API_KEY\")\n",
    "OPENAI_API_KEY =  os.getenv(\"OPENAI_API_KEY\")\n",
    "usuario_email_mercadona = os.getenv('USUARIO_MERCADONA')\n",
    "contrasena_mercadona = os.getenv('CONTRASENA_MERCADONA')\n",
    "\n",
    "def get_blob_client(nombre_archivo):\n",
    "    connect_str = AZURE_API_KEY\n",
    "    container_name = \"scrapingmercadona\"\n",
    "    blob_service_client = BlobServiceClient.from_connection_string(connect_str)\n",
    "    blob_client = blob_service_client.get_blob_client(container=container_name, blob=nombre_archivo)\n",
    "    return blob_client\n",
    "\n",
    "# Conexión a la base de datos SQL de Azure\n",
    "#server = 'scrapin.database.windows.net'\n",
    "server = os.getenv('DB_SERVER')\n",
    "database = os.getenv('DB_NAME')\n",
    "username = os.getenv('DB_USER')\n",
    "password = os.getenv('DB_PWD')\n",
    "driver = '{ODBC Driver 17 for SQL Server}'\n",
    "\n",
    "database_to_check = database\n",
    "\n",
    "connection_string = f'DRIVER={driver};SERVER={server};DATABASE={database};UID={username};PWD={password}'\n",
    "\n",
    "fecha_hoy = datetime.now().strftime(\"%Y-%m-%d\")\n",
    "blob_name = f\"{fecha_hoy}_productos.csv\"\n"
   ]
  },
  {
   "cell_type": "code",
   "execution_count": 17,
   "id": "bb7c5812",
   "metadata": {},
   "outputs": [
    {
     "name": "stdout",
     "output_type": "stream",
     "text": [
      "Conexión correcta a Azure Synapse.\n"
     ]
    }
   ],
   "source": [
    "try:\n",
    "    # Establecer la conexión\n",
    "    conn = pyodbc.connect(connection_string, autocommit=True)\n",
    "    cursor = conn.cursor()\n",
    "    print(\"Conexión correcta a Azure Synapse.\")\n",
    "except pyodbc.Error as ex:\n",
    "    # Capturar y mostrar cualquier error que ocurra\n",
    "    sqlstate = ex.args[1]\n",
    "    print(f\"Error al conectar a Azure Synapse: {sqlstate}\")\n",
    "finally:\n",
    "    # Cerrar la conexión si fue abierta\n",
    "    if 'conn' in locals() and conn:\n",
    "        conn.close()"
   ]
  },
  {
   "cell_type": "code",
   "execution_count": 18,
   "id": "9aad0d66",
   "metadata": {},
   "outputs": [],
   "source": [
    "\n",
    "\n",
    "# Lista de archivos CSV en el blob\n",
    "\n",
    "blob_client = get_blob_client(blob_name)\n",
    "# Leer los CSV desde el blob y concatenarlos en un DataFrame\n",
    "\n",
    "dfs = []\n",
    "csv_data = blob_client.download_blob().readall()\n",
    "df = pd.read_csv(io.StringIO(csv_data.decode('latin1')), sep=',', on_bad_lines='skip')\n",
    "\n",
    "\n",
    "# Concatenar todos los DataFrames\n",
    "all_data = df\n",
    "\n",
    "# Renombrar las columnas manualmente\n",
    "\n",
    "all_data.columns = ['Categoria','Subcategoria','Subsubcategoria','Fecha','ID','Nombre','Precio']\n",
    "\n",
    "# Convertir la columna 'Precio' a float, reemplazando valores no válidos por NaN\n",
    "all_data['Precio'] = pd.to_numeric(all_data['Precio'], errors='coerce')\n",
    "#all_data['Precio'] = all_data['Precio'].astype(int)\n",
    "#all_data['Precio'] = all_data['Precio'].round(2)\n",
    "\n",
    "\n",
    "# Eliminar filas con valores NaN en la columna 'Precio'\n",
    "all_data = all_data.dropna(subset=['Precio'])\n",
    "\n",
    "# Convertir la columna 'Fecha' a formato datetime\n",
    "all_data['Fecha'] = pd.to_datetime(all_data['Fecha'], format='%Y-%m-%d')\n",
    "\n",
    "all_data['Producto'] = all_data['Nombre'].copy()\n",
    "all_data.drop('Nombre',axis=1,inplace=True)\n",
    "\n",
    "#all_data.to_excel('mercadown.xlsx')"
   ]
  },
  {
   "cell_type": "code",
   "execution_count": 19,
   "id": "92fc545c",
   "metadata": {},
   "outputs": [],
   "source": [
    "columns_to_fill = ['Categoria', 'Subcategoria', 'Subsubcategoria', 'Producto']\n",
    "all_data[columns_to_fill] = all_data[columns_to_fill].fillna(value='Ninguno')\n"
   ]
  },
  {
   "cell_type": "code",
   "execution_count": 20,
   "id": "6e08648e",
   "metadata": {},
   "outputs": [
    {
     "name": "stdout",
     "output_type": "stream",
     "text": [
      "Conexión correcta a Azure Synapse.\n",
      "Tabla 'ProductosPreciosMercadona' verificada/creada correctamente.\n"
     ]
    }
   ],
   "source": [
    "try:\n",
    "    # Establecer la conexión\n",
    "    cnxn = pyodbc.connect(connection_string, autocommit=True)\n",
    "    cursor = cnxn.cursor()\n",
    "    print(\"Conexión correcta a Azure Synapse.\")\n",
    "\n",
    "    # Definir la consulta para crear la tabla si no existe\n",
    "    tabla = 'ProductosPreciosMercadona'\n",
    "    create_table_query = f'''\n",
    "    IF NOT EXISTS (SELECT * FROM sysobjects WHERE name='{tabla}' AND xtype='U')\n",
    "    CREATE TABLE {tabla} (\n",
    "        Categoria NVARCHAR(255),\n",
    "        Subcategoria NVARCHAR(255),\n",
    "        Subsubcategoria NVARCHAR(255),\n",
    "        Fecha DATE,\n",
    "        ID int,\n",
    "        Precio FLOAT,\n",
    "        Producto NVARCHAR(255)\n",
    "    )\n",
    "    '''\n",
    "\n",
    "    # Ejecutar la consulta para crear la tabla\n",
    "    cursor.execute(create_table_query)\n",
    "    cnxn.commit()\n",
    "    print(f\"Tabla '{tabla}' verificada/creada correctamente.\")\n",
    "\n",
    "except pyodbc.Error as ex:\n",
    "    # Capturar y mostrar cualquier error que ocurra\n",
    "    sqlstate = ex.args[1]\n",
    "    print(f\"Error al conectar o ejecutar la consulta en Azure Synapse: {sqlstate}\")\n",
    "\n",
    "\n",
    "\n",
    "\n"
   ]
  },
  {
   "cell_type": "code",
   "execution_count": 21,
   "id": "e86840f9",
   "metadata": {},
   "outputs": [
    {
     "name": "stdout",
     "output_type": "stream",
     "text": [
      "Datos insertados correctamente en la tabla 'ProductosPreciosMercadona'.\n"
     ]
    }
   ],
   "source": [
    "for index, row in all_data.iterrows():\n",
    "        cursor.execute('''\n",
    "        INSERT INTO ProductosPreciosMercadona (Categoria, Subcategoria, Subsubcategoria, Fecha, ID, Precio, Producto)\n",
    "        VALUES (?, ?, ?, ?, ?, ?, ?)\n",
    "        ''', row['Categoria'], row['Subcategoria'], row['Subsubcategoria'], row['Fecha'], row['ID'], row['Precio'], row['Producto'])\n",
    "cnxn.commit()\n",
    "print(f\"Datos insertados correctamente en la tabla '{tabla}'.\")\n",
    "cnxn.close()\n"
   ]
  },
  {
   "cell_type": "code",
   "execution_count": 15,
   "id": "460ced35",
   "metadata": {},
   "outputs": [
    {
     "data": {
      "text/plain": [
       "'admindb'"
      ]
     },
     "execution_count": 15,
     "metadata": {},
     "output_type": "execute_result"
    }
   ],
   "source": [
    "username"
   ]
  },
  {
   "cell_type": "code",
   "execution_count": null,
   "id": "4fb4d2a1",
   "metadata": {},
   "outputs": [],
   "source": []
  }
 ],
 "metadata": {
  "kernelspec": {
   "display_name": "Python 3 (ipykernel)",
   "language": "python",
   "name": "python3"
  },
  "language_info": {
   "codemirror_mode": {
    "name": "ipython",
    "version": 3
   },
   "file_extension": ".py",
   "mimetype": "text/x-python",
   "name": "python",
   "nbconvert_exporter": "python",
   "pygments_lexer": "ipython3",
   "version": "3.11.5"
  }
 },
 "nbformat": 4,
 "nbformat_minor": 5
}
