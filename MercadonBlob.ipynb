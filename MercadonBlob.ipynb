{
 "cells": [
  {
   "cell_type": "code",
   "execution_count": null,
   "id": "2575ad63",
   "metadata": {},
   "outputs": [],
   "source": [
    "!pip install pandas azure-storage-blob pyodbc\n"
   ]
  },
  {
   "cell_type": "code",
   "execution_count": 1,
   "id": "f938b078",
   "metadata": {},
   "outputs": [],
   "source": [
    "import pandas as pd\n",
    "from azure.storage.blob import BlobServiceClient\n",
    "import io\n",
    "from datetime import datetime \n",
    "import pyodbc\n",
    "import os\n",
    "from dotenv import load_dotenv\n",
    "from azure.storage.blob import BlobServiceClient, BlobClient, ContainerClient\n",
    "\n",
    "load_dotenv()\n",
    "\n",
    "\n",
    "# Configura tu conexión al Blob Storage de Azure\n",
    "AZURE_API_KEY = os.getenv(\"AZURE_STORAGE_CONNECTION_STRING\")\n",
    "PINECONE_API_KEY = os.getenv(\"PINECONE_API_KEY\")\n",
    "OPENAI_API_KEY =  os.getenv(\"OPENAI_API_KEY\")\n",
    "usuario_email_mercadona = os.getenv('USUARIO_MERCADONA')\n",
    "contrasena_mercadona = os.getenv('CONTRASENA_MERCADONA')\n",
    "\n",
    "def get_blob_client(nombre_archivo):\n",
    "    connect_str = AZURE_API_KEY\n",
    "    container_name = \"scrapingmercadona\"\n",
    "    blob_service_client = BlobServiceClient.from_connection_string(connect_str)\n",
    "    blob_client = blob_service_client.get_blob_client(container=container_name, blob=nombre_archivo)\n",
    "    return blob_client\n",
    "\n",
    "# Conexión a la base de datos SQL de Azure\n",
    "#server = 'scrapin.database.windows.net'\n",
    "server = os.getenv('DB_SERVER')\n",
    "database = os.getenv('DB_NAME')\n",
    "username = os.getenv('DB_USER')\n",
    "password = os.getenv('DB_PWD')\n",
    "driver = '{ODBC Driver 17 for SQL Server}'\n",
    "\n",
    "database_to_check = database\n",
    "\n",
    "connection_string = f'DRIVER={driver};SERVER={server};UID={username};PWD={password}'\n",
    "\n",
    "fecha_hoy = datetime.now().strftime(\"%Y-%m-%d\")\n",
    "blob_name = f\"{fecha_hoy}_productos.csv\"\n"
   ]
  },
  {
   "cell_type": "code",
   "execution_count": null,
   "id": "bb7c5812",
   "metadata": {},
   "outputs": [],
   "source": [
    "\n",
    "# Conectar al servidor (sin especificar la base de datos para realizar la verificación)\n",
    "conn = pyodbc.connect(connection_string, autocommit=True)\n",
    "cursor = conn.cursor()\n",
    "conn"
   ]
  },
  {
   "cell_type": "code",
   "execution_count": null,
   "id": "9aad0d66",
   "metadata": {},
   "outputs": [],
   "source": [
    "\n",
    "\n",
    "# Lista de archivos CSV en el blob\n",
    "\n",
    "blob_client = get_blob_client(blob_name)\n",
    "# Leer los CSV desde el blob y concatenarlos en un DataFrame\n",
    "\n",
    "dfs = []\n",
    "csv_data = blob_client.download_blob().readall()\n",
    "df = pd.read_csv(io.StringIO(csv_data.decode('latin1')), sep=',', on_bad_lines='skip')\n",
    "\n",
    "\n",
    "# Concatenar todos los DataFrames\n",
    "all_data = df\n",
    "\n",
    "# Renombrar las columnas manualmente\n",
    "\n",
    "all_data.columns = ['Categoria','Subcategoria','Subsubcategoria','Fecha','ID','Nombre','Precio']\n",
    "\n",
    "# Convertir la columna 'Precio' a float, reemplazando valores no válidos por NaN\n",
    "all_data['Precio'] = pd.to_numeric(all_data['Precio'], errors='coerce')\n",
    "#all_data['Precio'] = all_data['Precio'].astype(int)\n",
    "#all_data['Precio'] = all_data['Precio'].round(2)\n",
    "\n",
    "\n",
    "# Eliminar filas con valores NaN en la columna 'Precio'\n",
    "all_data = all_data.dropna(subset=['Precio'])\n",
    "\n",
    "# Convertir la columna 'Fecha' a formato datetime\n",
    "all_data['Fecha'] = pd.to_datetime(all_data['Fecha'], format='%Y-%m-%d')\n",
    "\n",
    "all_data['Producto'] = all_data['Nombre'].copy()\n",
    "all_data.drop('Nombre',axis=1,inplace=True)\n",
    "\n",
    "#all_data.to_excel('mercadown.xlsx')"
   ]
  },
  {
   "cell_type": "code",
   "execution_count": null,
   "id": "92fc545c",
   "metadata": {},
   "outputs": [],
   "source": [
    "columns_to_fill = ['Categoria', 'Subcategoria', 'Subsubcategoria', 'Producto']\n",
    "all_data[columns_to_fill] = all_data[columns_to_fill].fillna(value='Ninguno')\n"
   ]
  },
  {
   "cell_type": "code",
   "execution_count": null,
   "id": "6e08648e",
   "metadata": {},
   "outputs": [],
   "source": [
    "\n",
    "\n",
    "cnxn = pyodbc.connect('DRIVER='+driver+';SERVER='+server+';PORT=1433;DATABASE='+database+';UID='+username+';PWD='+password)\n",
    "cursor = cnxn.cursor()\n",
    "\n",
    "tabla = 'ProductosPreciosMercadona'\n",
    "create_table_query = f'''\n",
    "IF NOT EXISTS (SELECT * FROM sysobjects WHERE name='{tabla}' AND xtype='U')\n",
    "CREATE TABLE {tabla} (\n",
    "    Categoria NVARCHAR(255),\n",
    "    Subcategoria NVARCHAR(255),\n",
    "    Subsubcategoria NVARCHAR(255),\n",
    "    Fecha DATE,\n",
    "    ID int,\n",
    "    Precio FLOAT,\n",
    "    Producto NVARCHAR(255),\n",
    ")\n",
    "'''\n",
    "\n",
    "cursor.execute(create_table_query)\n",
    "cnxn.commit()\n",
    "\n",
    "# Insertar los datos en la tabla\n",
    "for index, row in all_data.iterrows():\n",
    "    cursor.execute('''\n",
    "    INSERT INTO ProductosPreciosMercadona (Categoria, Subcategoria, Subsubcategoria, Fecha, ID, Precio, Producto)\n",
    "    VALUES (?, ?, ?, ?, ?, ?,?)\n",
    "    ''', row['Categoria'], row['Subcategoria'], row['Subsubcategoria'], row['Fecha'], row['ID'], row['Precio'],row['Producto'])\n",
    "\n",
    "\n",
    "cnxn.commit()\n",
    "cursor.close()\n",
    "cnxn.close()\n"
   ]
  },
  {
   "cell_type": "code",
   "execution_count": null,
   "id": "e86840f9",
   "metadata": {},
   "outputs": [],
   "source": [
    "all_data.replace"
   ]
  },
  {
   "cell_type": "code",
   "execution_count": null,
   "id": "460ced35",
   "metadata": {},
   "outputs": [],
   "source": []
  }
 ],
 "metadata": {
  "kernelspec": {
   "display_name": "Python 3 (ipykernel)",
   "language": "python",
   "name": "python3"
  },
  "language_info": {
   "codemirror_mode": {
    "name": "ipython",
    "version": 3
   },
   "file_extension": ".py",
   "mimetype": "text/x-python",
   "name": "python",
   "nbconvert_exporter": "python",
   "pygments_lexer": "ipython3",
   "version": "3.11.5"
  }
 },
 "nbformat": 4,
 "nbformat_minor": 5
}
